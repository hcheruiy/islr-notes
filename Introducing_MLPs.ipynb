{
  "nbformat": 4,
  "nbformat_minor": 0,
  "metadata": {
    "colab": {
      "name": "Introducing MLPs.ipynb",
      "provenance": [],
      "collapsed_sections": [],
      "authorship_tag": "ABX9TyPXC2hSOhSzrfG62j0/zoof"
    },
    "kernelspec": {
      "name": "python3",
      "display_name": "Python 3"
    },
    "accelerator": "GPU"
  },
  "cells": [
    {
      "cell_type": "markdown",
      "metadata": {
        "id": "ytpfJqBiiVfm",
        "colab_type": "text"
      },
      "source": [
        "# Introducing Advanced Deep Learning with Keras\n",
        "\n",
        "This notebook introduces the three architectures of artificial neural networks: __MLPs__, __CNNs__, and __RNNs__. They are the core building blocks of most advanced deep learning topics such as Autoencoders and GANs. We'll implement the models using the Keras library, and introduce important deep learning concepts including optimization, regularization, and loss functions.\n"
      ]
    },
    {
      "cell_type": "markdown",
      "metadata": {
        "id": "3SC_ZGZ7hFtN",
        "colab_type": "text"
      },
      "source": [
        "## Keras Library\n",
        "TensorFlow, a popular open source deep learning library,uses Keras as a high-level API to its library. We'll start by introducing how to use the __Keras Sequential API__."
      ]
    },
    {
      "cell_type": "markdown",
      "metadata": {
        "id": "Qnv09trykS7b",
        "colab_type": "text"
      },
      "source": [
        "## MNIST Dataset\n",
        "\n",
        "MNIST is a collection of handwritten digits ranging from the number 0 to 9. It has a training set of 60,000 images, and 10,000 test images that are classified into corresponding categories or labels. In some literature, the term __target__ or __ground truth__ is also used to refer to the __label__."
      ]
    },
    {
      "cell_type": "code",
      "metadata": {
        "id": "ZUfiuqBUk__a",
        "colab_type": "code",
        "outputId": "656c2fed-97cc-4b80-9364-5a082641e3f3",
        "colab": {
          "base_uri": "https://localhost:8080/",
          "height": 34
        }
      },
      "source": [
        "# accessing the MNIST Dataset\n",
        "\n",
        "%tensorflow_version 2.x\n",
        "\n",
        "import numpy as np\n",
        "import matplotlib.pyplot as plt\n",
        "\n",
        "from tensorflow.keras.datasets import mnist\n",
        "\n",
        "# load dataset\n",
        "(X_train, y_train), (X_test, y_test) = mnist.load_data()"
      ],
      "execution_count": 0,
      "outputs": [
        {
          "output_type": "stream",
          "text": [
            "TensorFlow is already loaded. Please restart the runtime to change versions.\n"
          ],
          "name": "stdout"
        }
      ]
    },
    {
      "cell_type": "code",
      "metadata": {
        "id": "OoQ9QP1loz82",
        "colab_type": "code",
        "outputId": "4a0826c4-6654-470b-f753-61d703599d68",
        "colab": {
          "base_uri": "https://localhost:8080/",
          "height": 71
        }
      },
      "source": [
        "# count the number of unique test labels\n",
        "unique, counts = np.unique(y_train, return_counts = True)\n",
        "print(\"Train labels: \", dict(zip(unique, counts)))\n",
        "\n",
        "# count the number of unique test labels\n",
        "unique, counts = np.unique(y_test, return_counts = True)\n",
        "print(\"Test labels: \", dict(zip(unique, counts)))"
      ],
      "execution_count": 0,
      "outputs": [
        {
          "output_type": "stream",
          "text": [
            "Train labels:  {0: 5923, 1: 6742, 2: 5958, 3: 6131, 4: 5842, 5: 5421, 6: 5918, 7: 6265, 8: 5851, 9: 5949}\n",
            "Test labels:  {0: 980, 1: 1135, 2: 1032, 3: 1010, 4: 982, 5: 892, 6: 958, 7: 1028, 8: 974, 9: 1009}\n"
          ],
          "name": "stdout"
        }
      ]
    },
    {
      "cell_type": "code",
      "metadata": {
        "id": "liNej5XUo6Kt",
        "colab_type": "code",
        "outputId": "8e6eb4d8-dcd2-443f-98f1-d293263dcd0f",
        "colab": {
          "base_uri": "https://localhost:8080/",
          "height": 303
        }
      },
      "source": [
        "# sample 25 mnist digits from train dataset\n",
        "indexes = np.random.randint(0, X_train.shape[0], size = 25)\n",
        "images = X_train[indexes]\n",
        "labels = y_train[indexes]\n",
        "\n",
        "# plot the 25 mnist digits\n",
        "plt.figure(figsize = (5, 5))\n",
        "for i in range(len(indexes)):\n",
        "  plt.subplot(5, 5, i + 1)\n",
        "  image = images[i]\n",
        "  plt.imshow(image, cmap = 'gray')\n",
        "  plt.axis('off')\n",
        "\n",
        "plt.show();"
      ],
      "execution_count": 0,
      "outputs": [
        {
          "output_type": "display_data",
          "data": {
            "image/png": "[encoded data removed]",
            "text/plain": [
              "<Figure size 360x360 with 25 Axes>"
            ]
          },
          "metadata": {
            "tags": []
          }
        }
      ]
    },
    {
      "cell_type": "markdown",
      "metadata": {
        "id": "idjBVE21neAe",
        "colab_type": "text"
      },
      "source": [
        "## MNIST digits classifier model\n",
        "The MLP model for MNIST classification. The fully connected model in the figure below shows how the output of the perceptron is computed from inputs as a function of weights, $w_i$ and bias, $b_n$ for the $n^{th$}$ unit."
      ]
    },
    {
      "cell_type": "markdown",
      "metadata": {
        "id": "ZROc9nAkhOOg",
        "colab_type": "text"
      },
      "source": [
        "## Multilayer Perceptrons (MLPs)\n",
        "\n",
        "__MLPs__ are a fully connected network, often referred to as either deep feedforward networks or simply feed forward neural networks. Let's implement it in Keras\n"
      ]
    },
    {
      "cell_type": "code",
      "metadata": {
        "id": "PoQCuVpanlqr",
        "colab_type": "code",
        "outputId": "c7da1d37-b663-418b-c3aa-87c24b52ee99",
        "colab": {
          "base_uri": "https://localhost:8080/",
          "height": 1000
        }
      },
      "source": [
        "%tensorflow_version 2.x\n",
        "\n",
        "# import libraries\n",
        "import numpy as np\n",
        "from tensorflow.keras.models import Sequential\n",
        "from tensorflow.keras.layers import Dense, Activation, Dropout\n",
        "from tensorflow.keras.utils import to_categorical, plot_model\n",
        "from tensorflow.keras.datasets import mnist\n",
        "\n",
        "# load mnist dataset\n",
        "(X_train, y_train), (X_test, y_test) = mnist.load_data()\n",
        "\n",
        "# compute the number of labels\n",
        "num_labels = len(np.unique(y_train))\n",
        "\n",
        "# convert to one-hot vector\n",
        "y_train = to_categorical(y_train)\n",
        "y_test = to_categorical(y_test)\n",
        "\n",
        "# image dimensions\n",
        "image_size = X_train.shape[1]\n",
        "input_size = image_size * image_size\n",
        "\n",
        "# resize and normalize\n",
        "X_train = np.reshape(X_train, [-1, input_size])\n",
        "X_train = X_train.astype('float32') / 255\n",
        "X_test = np.reshape(X_test, [-1, input_size])\n",
        "X_test = X_test.astype('float32') / 255\n",
        "\n",
        "# network parameters\n",
        "batch_size = 128\n",
        "hidden_units = 256\n",
        "dropout = 0.45\n",
        "\n",
        "# model is 3-Layer MLP with ReLU and dropout after each layer\n",
        "model = Sequential()\n",
        "model.add(Dense(hidden_units, input_dim = input_size))\n",
        "model.add(Activation('relu'))\n",
        "model.add(Dropout(dropout))\n",
        "model.add(Dense(hidden_units))\n",
        "model.add(Activation('relu'))\n",
        "model.add(Dropout(dropout))\n",
        "model.add(Dense(num_labels))\n",
        "\n",
        "# this is the output for one-hot vector\n",
        "model.add(Activation('softmax'))\n",
        "model.summary()\n",
        "plot_model(model, to_file = 'mlp-mnist.png', show_shapes = True)\n",
        "\n",
        "# loss function for one-hot vector\n",
        "# use adam optimizer\n",
        "# accuracy is a good metric for classification tasks\n",
        "model.compile(loss = 'categorical_crossentropy', \n",
        "              optimizer = 'adam',\n",
        "              metrics = ['accuracy'])\n",
        "\n",
        "# train the network\n",
        "model.fit(X_train, y_train, epochs = 20, batch_size = batch_size)\n",
        "\n",
        "# validate the model on test dataset to determine generalization\n",
        "loss, acc = model.evaluate(X_test, y_test, batch_size = batch_size)\n",
        "print(\"\\nTest accuracy: %.1f%%\" % (100.0 * acc))"
      ],
      "execution_count": 0,
      "outputs": [
        {
          "output_type": "stream",
          "text": [
            "TensorFlow is already loaded. Please restart the runtime to change versions.\n",
            "WARNING:tensorflow:From /usr/local/lib/python3.6/dist-packages/tensorflow_core/python/ops/resource_variable_ops.py:1630: calling BaseResourceVariable.__init__ (from tensorflow.python.ops.resource_variable_ops) with constraint is deprecated and will be removed in a future version.\n",
            "Instructions for updating:\n",
            "If using Keras pass *_constraint arguments to layers.\n",
            "Model: \"sequential\"\n",
            "_________________________________________________________________\n",
            "Layer (type)                 Output Shape              Param #   \n",
            "=================================================================\n",
            "dense (Dense)                (None, 256)               200960    \n",
            "_________________________________________________________________\n",
            "activation (Activation)      (None, 256)               0         \n",
            "_________________________________________________________________\n",
            "dropout (Dropout)            (None, 256)               0         \n",
            "_________________________________________________________________\n",
            "dense_1 (Dense)              (None, 256)               65792     \n",
            "_________________________________________________________________\n",
            "activation_1 (Activation)    (None, 256)               0         \n",
            "_________________________________________________________________\n",
            "dropout_1 (Dropout)          (None, 256)               0         \n",
            "_________________________________________________________________\n",
            "dense_2 (Dense)              (None, 10)                2570      \n",
            "_________________________________________________________________\n",
            "activation_2 (Activation)    (None, 10)                0         \n",
            "=================================================================\n",
            "Total params: 269,322\n",
            "Trainable params: 269,322\n",
            "Non-trainable params: 0\n",
            "_________________________________________________________________\n",
            "Train on 60000 samples\n",
            "Epoch 1/20\n",
            "60000/60000 [==============================] - 3s 50us/sample - loss: 0.4166 - acc: 0.8718\n",
            "Epoch 2/20\n",
            "60000/60000 [==============================] - 1s 24us/sample - loss: 0.1917 - acc: 0.9430\n",
            "Epoch 3/20\n",
            "60000/60000 [==============================] - 1s 23us/sample - loss: 0.1517 - acc: 0.9540\n",
            "Epoch 4/20\n",
            "60000/60000 [==============================] - 1s 23us/sample - loss: 0.1287 - acc: 0.9610\n",
            "Epoch 5/20\n",
            "60000/60000 [==============================] - 1s 23us/sample - loss: 0.1127 - acc: 0.9659\n",
            "Epoch 6/20\n",
            "60000/60000 [==============================] - 2s 25us/sample - loss: 0.0997 - acc: 0.9690\n",
            "Epoch 7/20\n",
            "60000/60000 [==============================] - 1s 23us/sample - loss: 0.0948 - acc: 0.9707\n",
            "Epoch 8/20\n",
            "60000/60000 [==============================] - 1s 23us/sample - loss: 0.0886 - acc: 0.9724\n",
            "Epoch 9/20\n",
            "60000/60000 [==============================] - 1s 23us/sample - loss: 0.0817 - acc: 0.9748\n",
            "Epoch 10/20\n",
            "60000/60000 [==============================] - 1s 24us/sample - loss: 0.0771 - acc: 0.9760\n",
            "Epoch 11/20\n",
            "60000/60000 [==============================] - 1s 23us/sample - loss: 0.0747 - acc: 0.9768\n",
            "Epoch 12/20\n",
            "60000/60000 [==============================] - 1s 23us/sample - loss: 0.0689 - acc: 0.9784\n",
            "Epoch 13/20\n",
            "60000/60000 [==============================] - 1s 23us/sample - loss: 0.0669 - acc: 0.9785\n",
            "Epoch 14/20\n",
            "60000/60000 [==============================] - 1s 23us/sample - loss: 0.0659 - acc: 0.9790\n",
            "Epoch 15/20\n",
            "60000/60000 [==============================] - 1s 22us/sample - loss: 0.0621 - acc: 0.9802\n",
            "Epoch 16/20\n",
            "60000/60000 [==============================] - 1s 24us/sample - loss: 0.0604 - acc: 0.9812\n",
            "Epoch 17/20\n",
            "60000/60000 [==============================] - 1s 23us/sample - loss: 0.0570 - acc: 0.9812\n",
            "Epoch 18/20\n",
            "60000/60000 [==============================] - 1s 23us/sample - loss: 0.0555 - acc: 0.9817\n",
            "Epoch 19/20\n",
            "60000/60000 [==============================] - 1s 23us/sample - loss: 0.0551 - acc: 0.9823\n",
            "Epoch 20/20\n",
            "60000/60000 [==============================] - 1s 22us/sample - loss: 0.0540 - acc: 0.9826\n",
            "10000/10000 [==============================] - 0s 18us/sample - loss: 0.0669 - acc: 0.9827\n",
            "\n",
            "Test accuracy: 98.3%\n"
          ],
          "name": "stdout"
        }
      ]
    },
    {
      "cell_type": "markdown",
      "metadata": {
        "id": "mOXOS4t7plxl",
        "colab_type": "text"
      },
      "source": [
        "## Explanation\n",
        "The above model is made of three MLP layers. In Keras, an MLP layer is referred to as __Dense__, which stands for the densely connected layer. Both the first and second MLP layers are identical in nature with 256 units each, followed by __relu activation__ and __dropout__. 256 units are chosen since 128, 512 and 1,024 units have lower performance metrics. At 128 units, the network converges quickly, but has a lower test accuracy. The added number units for 512 or 1,024 does not increase the test accuracy significantly.\n",
        "\n",
        "The number of units is a __hyperparameter__. It controls the __capacity__ of the network. The capacity is a measure of the complexity of the function that the network can approximate. For example, for polynomials, the degree is the hyperparameter. As the degree increases, the capacity of the function also increases. As shown in the following model, the classifier model is implemented using a sequential model API of Keras. This is sufficient if the model requires one input and one output processed by a sequence of layers."
      ]
    },
    {
      "cell_type": "markdown",
      "metadata": {
        "id": "yCyXxlMFqYQJ",
        "colab_type": "text"
      },
      "source": [
        "Since a `Dense` layer is a linear operation, a sequence of `Dense` layers can only approximate a linear function. The problem is that the MNIST digit classification is inherently a non-linear process. Inserting a `relu` activation between `Dense` layers will enable MLPs to model non-linear mappings. `relu` or __Rectified Linear Unit (ReLU)__ is a simple non-linear function. It's very much like a filter that allows positive inputs to pass through unchanged while clamping everything else to zero. Mathematically, `relu` is expressed in the following equation:\n",
        "\n",
        "$$\n",
        "\\text{relu}(x) = \\text{max}(0, x)\n",
        "$$"
      ]
    },
    {
      "cell_type": "markdown",
      "metadata": {
        "id": "nfLRUtSSq9Ki",
        "colab_type": "text"
      },
      "source": [
        "There are other non-linear functions that can be used such as `elu`, `selu`, `softplus`, `sigmoid`, and `tanh`. However, relu is the most commonly used in the industry and is computationally efficient due to its simplicity. The `sigmoid` and `tanh` are used as activation functions in the output layer"
      ]
    },
    {
      "cell_type": "markdown",
      "metadata": {
        "id": "m9ba9aCprOT0",
        "colab_type": "text"
      },
      "source": [
        "## Regularization\n",
        "A neural network has the tendency to memorize its training data especially if it contains more than enough capacity. In such a case, the network fails catastrophically when subjected to the test data. To avoid this tendency, the model uses a regularizing layer or function. A common regularizing layer is referred to as a __dropout__.\n",
        "\n",
        "The idea of dropout: given a dropout rate (above, it is set to `dropout=0.45`), the `Dropout` layer randomly removes that fraction of units from participating in the next layer. For example, if the first layer has 256 units, after `dropout=0.45` is applied, only (1 - 0.45) * 256 units = 140 units from layer 1 participate in layer 2. The `Dropout` layer makes neural networks robust to unforeseen input data because the network is trained to predict correctly, even if some units are missing. Dropout is not used in the output layer and it is only active during training. Moreover, dropout is not present during prediction.\n",
        "\n",
        "There are regularizers that can be used other than dropouts like `l1` or `l2`. In Keras, the bias, weight and activation output can be regularized per layer. `l1` and `l2` favor smaller parameter values by adding a penalty function. Both `l1` and `l2` enforce the penalty using a fraction of the sum of absolute (`l1`) or square (`l2`) of parameter values. In other words, the penalty function forces the optimizer to find parameter values that are small. Neural networks with small parameter values are more insensitive to the presence of noise from within the input data.\n",
        "\n",
        "Example of `l2` weight regularizer with `fraction=0.001`:\n",
        "\n",
        "```python\n",
        "from tensorflow.keras.regularizers import l2\n",
        "\n",
        "model.add(Dense(hidden_units,\n",
        "                kernel_regularizer = l1(0.001),\n",
        "                input_dim = input_size))\n",
        "```\n",
        "No additional layer is added if `l1` or `l2` regularization is used. The regularization is imposed in the `Dense` layer internally. For the proposed model, dropout still has a better performance than `l2`."
      ]
    },
    {
      "cell_type": "markdown",
      "metadata": {
        "id": "5okdrekntl21",
        "colab_type": "text"
      },
      "source": [
        "## Output Activation and Loss Function\n",
        "\n",
        "The output layer has 10 units followed by `softmax` activation. The 10 units correspond to the 10 possible labels, classes or categories. The `softmax` activation can be expressed mathematically as shown in the following equation:\n",
        "$$\n",
        "\\text{softmax}(x_i) = \\frac{e^{x_i}}{\\sum_{j=0}^{N-1}e^{x_j}}\n",
        "$$"
      ]
    },
    {
      "cell_type": "markdown",
      "metadata": {
        "id": "Gqd2gl4dvLqy",
        "colab_type": "text"
      },
      "source": [
        "There are other choices of output activation layer, like `linear`, `sigmoid`, and `tanh`. The linear activation is an identity function. It copies its input to its output. The `sigmoid` function is more specifically known as a __logistic sigmoid__. This will be used if the elements of the prediction tensor should be mapped between 0.0 and 1.0 independently. The summation of all elements of the predicted tensor is not constrained to 1.0 unlike in `softmax`. For example, `sigmoid` is used as the last layer in sentiment prediction (0.0 is bad to 1.0, which is good) or in image generation (0.0 is 0 to 1.0 is 255-pixel values).\n",
        "\n",
        "The `tanh` function maps its input in the range -1.0 to 1.0. This is important if the output can swing in both positive and negative values. The `tanh` function is more popularly used in the internal layer of recurrent neural networks but has also been used as output layer activation. If `tanh` is used to replace `sigmoid` in the output activation, the data used must be scaled appropriately. For example, instead of scaling each grayscale pixel in the range [0.0  1.0] using:\n",
        "$$\n",
        "x = \\frac{x}{255},\n",
        "$$\n",
        "\n",
        "it is assigned in the range [-1.0, 1.0] by\n",
        "$$\n",
        "x = \\frac{x - 127.5}{127.5}\n",
        "$$\n",
        "\n",
        "The following graph shows the `sigmoid` and `tanh` functions. Mathematically, `sigmoid` can be expressed in equation as follows:\n",
        "$$\n",
        "\\text{sigmoid}(x) = \\sigma(x)=\\frac{1}{1+e^{-x}}\n",
        "$$"
      ]
    },
    {
      "cell_type": "markdown",
      "metadata": {
        "id": "80_besfpwjAE",
        "colab_type": "text"
      },
      "source": [
        "How far the predicted tensor is from the one-hot ground truth vector is called __loss__. One type of loss function is `mean_squared_error`__(mse)__, or the average of the squares of the differences between target and prediction. In the current example, we are using `categorical_crossentropy`. It's the negative of the sum of the product of the target and the logarithm of the prediction. There are other loss functions that are available in Keras, such as `mean_absolute_error`, and `binary_crossentropy`. The choice of the loss function is not arbitrary but should be a criterion that the model is learning. For classification by category, `categorical_crossentropy` or `mean_squared_error` is a good choice after the softmax activation layer. The `binary_crossentropy` loss function is normally used after the `sigmoid` activation layer while `mean_squared_error` is an option for `tanh` output."
      ]
    },
    {
      "cell_type": "markdown",
      "metadata": {
        "id": "5AwJ3QO6xB8E",
        "colab_type": "text"
      },
      "source": [
        "## Optimization\n",
        "\n",
        "With optimization, the objective is to minimize the loss function. The idea is that if the loss is reduced to an acceptable level, the model has indirectly learned the function mapping input to output. Performance metrics are used to determine if a model has learned the underlying data distribution. The default metric in Keras is __loss__. During training, validation, and testing, other metrics such as __accuracy__ can also be included. Accuracy is the percent, or fraction, of correct predictions based on ground truth. In deep learning, there are many other performance metrics. However, it depends on the target application of the model.\n",
        "\n",
        "In Keras, there are several choices for optimizers. The most commonly used optimizers are; __Stochastic Gradient Descent (SGD)__, __Adaptive Moments (Adam)__, and __Root Mean Squared Propagation (RMSprop)__. Each optimizer features tunable parameters like learning rate, momentum, and decay. Adam and RMSprop are variations of SGD with adaptive learning rates. In the proposed classifier network, Adam is used since it has the highest test accuracy.\n",
        "\n",
        "SGD is considered the most fundamental optimizer. It's a simpler version of the gradient descent in calculus. In __gradient descent (GD)__, tracing the curve of a function downhill finds the minimum value, much like walking downhill in a valley or opposite the gradient until the bottom is reached.\n",
        "\n",
        "Let's suppose x is the parameter (for example, weight) being tuned to find the minimum value of y (for example, loss function). Starting at an arbitrary point of x = -0.5 with the gradient being.\n"
      ]
    },
    {
      "cell_type": "code",
      "metadata": {
        "id": "WqO04-L7q5Ar",
        "colab_type": "code",
        "colab": {}
      },
      "source": [
        ""
      ],
      "execution_count": 0,
      "outputs": []
    }
  ]
}