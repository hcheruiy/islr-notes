{
  "nbformat": 4,
  "nbformat_minor": 0,
  "metadata": {
    "colab": {
      "name": "RNNs.ipynb",
      "provenance": [],
      "collapsed_sections": [],
      "authorship_tag": "ABX9TyPYUUExxlLw35UY1VahwZX3"
    },
    "kernelspec": {
      "name": "python3",
      "display_name": "Python 3"
    },
    "accelerator": "GPU"
  },
  "cells": [
    {
      "cell_type": "markdown",
      "metadata": {
        "id": "y7uD2VoK6vPC",
        "colab_type": "text"
      },
      "source": [
        "# Recurrent Neural Networks (RNNs)\n",
        "\n",
        "RNNs are a family of networks that are suitable for learning representations of sequential data like text in __Natural Language Processing (NLP)__ or stream of sensor data in instrumentation. While each MNIST data sample is not sequential in nature, it is not hard to imagine that every image can be interpreted as a sequence of rows or columns of pixels. Thus, a model based on RNNs can process each MNIST image as a sequence of 28-element input vectors with timesteps equal to 28. The following listing shows the code for the RNN model:"
      ]
    },
    {
      "cell_type": "code",
      "metadata": {
        "id": "rnpt-6JW6h1o",
        "colab_type": "code",
        "colab": {
          "base_uri": "https://localhost:8080/",
          "height": 1000
        },
        "outputId": "8b316917-2c88-4d2a-fce9-83825f58c2c7"
      },
      "source": [
        "%tensorflow_version 2.x\n",
        "import numpy as np\n",
        "\n",
        "from tensorflow.keras.models import Sequential\n",
        "from tensorflow.keras.layers import Dense, Activation, SimpleRNN\n",
        "from tensorflow.keras.utils import to_categorical, plot_model\n",
        "from tensorflow.keras.datasets import mnist\n",
        "\n",
        "# load mnist dataset\n",
        "(X_train, y_train), (X_test, y_test) = mnist.load_data()\n",
        "\n",
        "# compute the number of labels\n",
        "num_labels = len(np.unique(y_train))\n",
        "\n",
        "# convert to one-hot vector\n",
        "y_train = to_categorical(y_train)\n",
        "y_test = to_categorical(y_test)\n",
        "\n",
        "# resize and normalize\n",
        "image_size = X_train.shape[1]\n",
        "X_train = np.reshape(X_train,[-1, image_size, image_size])\n",
        "X_test = np.reshape(X_test,[-1, image_size, image_size])\n",
        "X_train = X_train.astype('float32') / 255\n",
        "X_test = X_test.astype('float32') / 255\n",
        "\n",
        "# network parameters\n",
        "input_shape = (image_size, image_size)\n",
        "batch_size = 128\n",
        "units = 256\n",
        "dropout = 0.2\n",
        "\n",
        "# model is RNN with 256 units, input is 28-dim vector 28 timesteps\n",
        "model = Sequential()\n",
        "model.add(SimpleRNN(units=units,\n",
        "                    dropout=dropout,\n",
        "                    input_shape=input_shape))\n",
        "model.add(Dense(num_labels))\n",
        "model.add(Activation('softmax'))\n",
        "model.summary()\n",
        "plot_model(model, to_file='rnn-mnist.png', show_shapes=True)\n",
        "\n",
        "# loss function for one-hot vector\n",
        "# use of sgd optimizer\n",
        "# accuracy is good metric for classification tasks\n",
        "model.compile(loss='categorical_crossentropy',\n",
        "              optimizer='sgd',\n",
        "              metrics=['accuracy'])\n",
        "# train the network\n",
        "model.fit(X_train, y_train, epochs=20, batch_size=batch_size)\n",
        "\n",
        "loss, acc = model.evaluate(X_test, y_test, batch_size=batch_size)\n",
        "print(\"\\nTest accuracy: %.1f%%\" % (100.0 * acc))"
      ],
      "execution_count": 1,
      "outputs": [
        {
          "output_type": "stream",
          "text": [
            "TensorFlow 2.x selected.\n",
            "Downloading data from https://storage.googleapis.com/tensorflow/tf-keras-datasets/mnist.npz\n",
            "11493376/11490434 [==============================] - 0s 0us/step\n",
            "Model: \"sequential\"\n",
            "_________________________________________________________________\n",
            "Layer (type)                 Output Shape              Param #   \n",
            "=================================================================\n",
            "simple_rnn (SimpleRNN)       (None, 256)               72960     \n",
            "_________________________________________________________________\n",
            "dense (Dense)                (None, 10)                2570      \n",
            "_________________________________________________________________\n",
            "activation (Activation)      (None, 10)                0         \n",
            "=================================================================\n",
            "Total params: 75,530\n",
            "Trainable params: 75,530\n",
            "Non-trainable params: 0\n",
            "_________________________________________________________________\n",
            "Train on 60000 samples\n",
            "Epoch 1/20\n",
            "60000/60000 [==============================] - 12s 200us/sample - loss: 0.7978 - accuracy: 0.7623\n",
            "Epoch 2/20\n",
            "60000/60000 [==============================] - 10s 163us/sample - loss: 0.3563 - accuracy: 0.8934\n",
            "Epoch 3/20\n",
            "60000/60000 [==============================] - 10s 172us/sample - loss: 0.2717 - accuracy: 0.9181\n",
            "Epoch 4/20\n",
            "60000/60000 [==============================] - 11s 182us/sample - loss: 0.2248 - accuracy: 0.9325\n",
            "Epoch 5/20\n",
            "60000/60000 [==============================] - 10s 165us/sample - loss: 0.1999 - accuracy: 0.9395\n",
            "Epoch 6/20\n",
            "60000/60000 [==============================] - 10s 170us/sample - loss: 0.1800 - accuracy: 0.9462\n",
            "Epoch 7/20\n",
            "60000/60000 [==============================] - 10s 163us/sample - loss: 0.1644 - accuracy: 0.9492\n",
            "Epoch 8/20\n",
            "60000/60000 [==============================] - 10s 168us/sample - loss: 0.1527 - accuracy: 0.9540\n",
            "Epoch 9/20\n",
            "60000/60000 [==============================] - 10s 174us/sample - loss: 0.1381 - accuracy: 0.9584\n",
            "Epoch 10/20\n",
            "60000/60000 [==============================] - 10s 170us/sample - loss: 0.1344 - accuracy: 0.9592\n",
            "Epoch 11/20\n",
            "60000/60000 [==============================] - 10s 167us/sample - loss: 0.1276 - accuracy: 0.9615\n",
            "Epoch 12/20\n",
            "60000/60000 [==============================] - 10s 171us/sample - loss: 0.1203 - accuracy: 0.9635\n",
            "Epoch 13/20\n",
            "60000/60000 [==============================] - 10s 167us/sample - loss: 0.1137 - accuracy: 0.9651\n",
            "Epoch 14/20\n",
            "60000/60000 [==============================] - 10s 166us/sample - loss: 0.1070 - accuracy: 0.9676\n",
            "Epoch 15/20\n",
            "60000/60000 [==============================] - 10s 174us/sample - loss: 0.1071 - accuracy: 0.9678\n",
            "Epoch 16/20\n",
            "60000/60000 [==============================] - 11s 175us/sample - loss: 0.1020 - accuracy: 0.9687\n",
            "Epoch 17/20\n",
            "60000/60000 [==============================] - 10s 171us/sample - loss: 0.0998 - accuracy: 0.9688\n",
            "Epoch 18/20\n",
            "60000/60000 [==============================] - 10s 170us/sample - loss: 0.0955 - accuracy: 0.9710\n",
            "Epoch 19/20\n",
            "60000/60000 [==============================] - 10s 162us/sample - loss: 0.0921 - accuracy: 0.9720\n",
            "Epoch 20/20\n",
            "60000/60000 [==============================] - 10s 163us/sample - loss: 0.0898 - accuracy: 0.9721\n",
            "10000/10000 [==============================] - 0s 47us/sample - loss: 0.0647 - accuracy: 0.9802\n",
            "\n",
            "Test accuracy: 98.0%\n"
          ],
          "name": "stdout"
        }
      ]
    },
    {
      "cell_type": "code",
      "metadata": {
        "id": "svBkLIj88Qc6",
        "colab_type": "code",
        "colab": {}
      },
      "source": [
        ""
      ],
      "execution_count": 0,
      "outputs": []
    }
  ]
}